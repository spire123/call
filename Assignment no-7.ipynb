{
 "cells": [
  {
   "cell_type": "markdown",
   "id": "e7a92570",
   "metadata": {},
   "source": [
    "# Assignment no-7\n",
    " Text Analytics\n",
    "1. Extract Sample document and apply following document preprocessing methods: \n",
    "Tokenization, POS Tagging, stop words removal, Stemming and Lemmatization.\n",
    "2. Create representation of documents by calculating Term Frequency and Inverse \n",
    "DocumentFrequency."
   ]
  },
  {
   "cell_type": "code",
   "execution_count": null,
   "id": "aa453d62",
   "metadata": {},
   "outputs": [],
   "source": []
  },
  {
   "cell_type": "code",
   "execution_count": 1,
   "id": "0e34cbd4",
   "metadata": {},
   "outputs": [
    {
     "name": "stderr",
     "output_type": "stream",
     "text": [
      "[nltk_data] Downloading package punkt to\n",
      "[nltk_data]     C:\\Users\\HP\\AppData\\Roaming\\nltk_data...\n",
      "[nltk_data]   Package punkt is already up-to-date!\n"
     ]
    },
    {
     "data": {
      "text/plain": [
       "True"
      ]
     },
     "execution_count": 1,
     "metadata": {},
     "output_type": "execute_result"
    }
   ],
   "source": [
    "import nltk\n",
    "nltk.download('punkt')"
   ]
  },
  {
   "cell_type": "code",
   "execution_count": 2,
   "id": "75ec2271",
   "metadata": {},
   "outputs": [
    {
     "name": "stdout",
     "output_type": "stream",
     "text": [
      "['My', 'name', 'is', 'aditya.I', 'had', 'completed', 'my', '12', 'th', 'from', 'ryk', 'college', '.']\n",
      "\n",
      "['My name is aditya.I had completed my 12 th from ryk college.']\n"
     ]
    }
   ],
   "source": [
    "from nltk import word_tokenize,sent_tokenize\n",
    "text=\"My name is aditya.I had completed my 12 th from ryk college.\"\n",
    "word=word_tokenize(text)\n",
    "print(word)\n",
    "print()\n",
    "sentence=sent_tokenize(text)\n",
    "print(sentence)"
   ]
  },
  {
   "cell_type": "code",
   "execution_count": 3,
   "id": "88f07276",
   "metadata": {},
   "outputs": [
    {
     "name": "stderr",
     "output_type": "stream",
     "text": [
      "[nltk_data] Downloading package averaged_perceptron_tagger to\n",
      "[nltk_data]     C:\\Users\\HP\\AppData\\Roaming\\nltk_data...\n",
      "[nltk_data]   Package averaged_perceptron_tagger is already up-to-\n",
      "[nltk_data]       date!\n"
     ]
    },
    {
     "data": {
      "text/plain": [
       "True"
      ]
     },
     "execution_count": 3,
     "metadata": {},
     "output_type": "execute_result"
    }
   ],
   "source": [
    "nltk.download('averaged_perceptron_tagger')"
   ]
  },
  {
   "cell_type": "code",
   "execution_count": 4,
   "id": "f0334de1",
   "metadata": {},
   "outputs": [
    {
     "data": {
      "text/plain": [
       "[('mom', 'NNS'),\n",
       " ('make', 'VBP'),\n",
       " ('a', 'DT'),\n",
       " ('food', 'NN'),\n",
       " ('for', 'IN'),\n",
       " ('me', 'PRP'),\n",
       " ('.', '.')]"
      ]
     },
     "execution_count": 4,
     "metadata": {},
     "output_type": "execute_result"
    }
   ],
   "source": [
    "#pos tagging\n",
    "from nltk import pos_tag\n",
    "text=\"mom make a food for me.\"\n",
    "word=word_tokenize(text)\n",
    "pos=pos_tag(word)\n",
    "pos\n"
   ]
  },
  {
   "cell_type": "code",
   "execution_count": 5,
   "id": "b1b85d8a",
   "metadata": {},
   "outputs": [
    {
     "name": "stderr",
     "output_type": "stream",
     "text": [
      "[nltk_data] Downloading package stopwords to\n",
      "[nltk_data]     C:\\Users\\HP\\AppData\\Roaming\\nltk_data...\n",
      "[nltk_data]   Package stopwords is already up-to-date!\n"
     ]
    },
    {
     "data": {
      "text/plain": [
       "True"
      ]
     },
     "execution_count": 5,
     "metadata": {},
     "output_type": "execute_result"
    }
   ],
   "source": [
    "#stop word removal\n",
    "nltk.download('stopwords')"
   ]
  },
  {
   "cell_type": "code",
   "execution_count": 6,
   "id": "84456062",
   "metadata": {},
   "outputs": [
    {
     "name": "stdout",
     "output_type": "stream",
     "text": [
      "original text ['i', 'like', 'mathematics', '.', 'mathematics', 'is', 'the', 'easiest', 'subject', 'in', 'my', 'life']\n",
      "after stop word removal ['like', 'mathematics', '.', 'mathematics', 'easiest', 'subject', 'life']\n"
     ]
    }
   ],
   "source": [
    "from nltk.corpus import stopwords\n",
    "stop=stopwords.words('english')\n",
    "text=\"i like mathematics. mathematics is the easiest subject in my life\"\n",
    "clean_text=[]\n",
    "word=word_tokenize(text)\n",
    "for w in word:\n",
    "    if w not in stop:\n",
    "        clean_text.append(w)\n",
    "print(\"original text\",word)\n",
    "print(\"after stop word removal\",clean_text)\n",
    "        "
   ]
  },
  {
   "cell_type": "code",
   "execution_count": 7,
   "id": "871433e8",
   "metadata": {},
   "outputs": [
    {
     "name": "stdout",
     "output_type": "stream",
     "text": [
      "originalword:word after stemming\n",
      "Nltk : nltk\n",
      "full : full\n",
      "form : form\n",
      "is : is\n",
      "natural : natur\n",
      "language : languag\n",
      "tool : tool\n",
      "kit : kit\n",
      ". : .\n",
      "Enginearing : enginear\n",
      "needs : need\n",
      "a : a\n",
      "vision : vision\n"
     ]
    }
   ],
   "source": [
    "#stemming\n",
    "from nltk import SnowballStemmer\n",
    "sbs=SnowballStemmer('english')\n",
    "text=\"Nltk full form is natural language tool kit . Enginearing needs a vision\"\n",
    "word=word_tokenize(text)\n",
    "print(\"originalword:word after stemming\")\n",
    "for w in word:\n",
    "    print(w,\":\",sbs.stem(w))\n"
   ]
  },
  {
   "cell_type": "code",
   "execution_count": 8,
   "id": "9e608306",
   "metadata": {},
   "outputs": [
    {
     "name": "stderr",
     "output_type": "stream",
     "text": [
      "[nltk_data] Downloading package wordnet to\n",
      "[nltk_data]     C:\\Users\\HP\\AppData\\Roaming\\nltk_data...\n",
      "[nltk_data]   Package wordnet is already up-to-date!\n",
      "[nltk_data] Downloading package omw-1.4 to\n",
      "[nltk_data]     C:\\Users\\HP\\AppData\\Roaming\\nltk_data...\n"
     ]
    },
    {
     "data": {
      "text/plain": [
       "True"
      ]
     },
     "execution_count": 8,
     "metadata": {},
     "output_type": "execute_result"
    }
   ],
   "source": [
    "#lemmatization\n",
    "nltk.download('wordnet')\n",
    "nltk.download('omw-1.4')"
   ]
  },
  {
   "cell_type": "code",
   "execution_count": 13,
   "id": "29f2d49c",
   "metadata": {},
   "outputs": [
    {
     "name": "stdout",
     "output_type": "stream",
     "text": [
      "give\n",
      "giving\n",
      "leaf\n",
      "gave\n"
     ]
    }
   ],
   "source": [
    "from nltk import wordnet\n",
    "from nltk import WordNetLemmatizer\n",
    "wlm=WordNetLemmatizer()\n",
    "word=['give','giving','leaves','gave']\n",
    "for w in word:\n",
    "    print(wlm.lemmatize(w))\n",
    "\n",
    "    "
   ]
  },
  {
   "cell_type": "markdown",
   "id": "698912a6",
   "metadata": {},
   "source": [
    "# Part-2"
   ]
  },
  {
   "cell_type": "code",
   "execution_count": 15,
   "id": "f1fcad2d",
   "metadata": {},
   "outputs": [],
   "source": [
    "from sklearn.feature_extraction.text  import TfidfVectorizer"
   ]
  },
  {
   "cell_type": "code",
   "execution_count": 16,
   "id": "722fe94d",
   "metadata": {},
   "outputs": [],
   "source": [
    "do=\"new york times\"\n",
    "d1=\"new york post\"\n",
    "d2=\"los angels times\"\n",
    "Series=[do,d1,d2]\n"
   ]
  },
  {
   "cell_type": "code",
   "execution_count": 19,
   "id": "a7a61eec",
   "metadata": {},
   "outputs": [],
   "source": [
    "# create an object of tf-idf\n",
    "tf_idf=TfidfVectorizer()\n",
    "#get tf-idf values\n",
    "result=tf_idf.fit_transform(Series)\n"
   ]
  },
  {
   "cell_type": "code",
   "execution_count": 21,
   "id": "b925a7fc",
   "metadata": {},
   "outputs": [
    {
     "name": "stdout",
     "output_type": "stream",
     "text": [
      "{'new': 2, 'york': 5, 'times': 4, 'post': 3, 'los': 1, 'angels': 0}\n"
     ]
    }
   ],
   "source": [
    "#get indexing\n",
    "print(tf_idf.vocabulary_)"
   ]
  },
  {
   "cell_type": "code",
   "execution_count": 22,
   "id": "f328bb1f",
   "metadata": {},
   "outputs": [
    {
     "name": "stdout",
     "output_type": "stream",
     "text": [
      "  (0, 4)\t0.5773502691896257\n",
      "  (0, 5)\t0.5773502691896257\n",
      "  (0, 2)\t0.5773502691896257\n",
      "  (1, 3)\t0.680918560398684\n",
      "  (1, 5)\t0.5178561161676974\n",
      "  (1, 2)\t0.5178561161676974\n",
      "  (2, 0)\t0.6227660078332259\n",
      "  (2, 1)\t0.6227660078332259\n",
      "  (2, 4)\t0.4736296010332684\n"
     ]
    }
   ],
   "source": [
    "#display tf-idf values\n",
    "print(result)"
   ]
  },
  {
   "cell_type": "code",
   "execution_count": 25,
   "id": "bb95a33c",
   "metadata": {},
   "outputs": [
    {
     "name": "stdout",
     "output_type": "stream",
     "text": [
      "[[0.         0.         0.57735027 0.         0.57735027 0.57735027]\n",
      " [0.         0.         0.51785612 0.68091856 0.         0.51785612]\n",
      " [0.62276601 0.62276601 0.         0.         0.4736296  0.        ]]\n"
     ]
    }
   ],
   "source": [
    "#Display tf-idf value in matrix\n",
    "print(result.toarray())"
   ]
  },
  {
   "cell_type": "code",
   "execution_count": null,
   "id": "6eb9748c",
   "metadata": {},
   "outputs": [],
   "source": []
  }
 ],
 "metadata": {
  "kernelspec": {
   "display_name": "Python 3 (ipykernel)",
   "language": "python",
   "name": "python3"
  },
  "language_info": {
   "codemirror_mode": {
    "name": "ipython",
    "version": 3
   },
   "file_extension": ".py",
   "mimetype": "text/x-python",
   "name": "python",
   "nbconvert_exporter": "python",
   "pygments_lexer": "ipython3",
   "version": "3.9.12"
  }
 },
 "nbformat": 4,
 "nbformat_minor": 5
}
